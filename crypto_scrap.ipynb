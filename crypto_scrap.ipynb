{
 "cells": [
  {
   "cell_type": "code",
   "execution_count": 1,
   "metadata": {},
   "outputs": [],
   "source": [
    "import datetime\n",
    "import numpy as np \n",
    "import time\n",
    "import re\n",
    "from datetime import datetime\n",
    "import pickle\n",
    "import string\n",
    "import pandas as pd\n",
    "from copy import deepcopy\n",
    "import operator\n",
    "import matplotlib.pyplot as plt\n",
    "import os\n",
    "\n",
    "from requests import Request, Session\n",
    "from requests.exceptions import ConnectionError, Timeout, TooManyRedirects\n",
    "import json\n",
    "import ast\n",
    "from bs4 import BeautifulSoup\n",
    "import urllib.request\n",
    "import requests\n",
    "from requests.adapters import HTTPAdapter\n",
    "from requests.packages.urllib3.util.retry import Retry\n",
    "\n",
    "import smtplib\n",
    "from email.mime.text import MIMEText"
   ]
  },
  {
   "cell_type": "code",
   "execution_count": 2,
   "metadata": {},
   "outputs": [],
   "source": [
    "def scrap_coin_gecko():\n",
    "    \n",
    "    url = f\"https://www.coingecko.com/en/coins/recently_added\"\n",
    "    \n",
    "    headers = {'User-Agent': 'Mozilla/5.0 (Macintosh; Intel Mac OS X 10.13; rv:63.0) Gecko/20100101 Firefox/63.0'}\n",
    "\n",
    "    r = requests.get(url, headers)\n",
    "    html_doc = r.text\n",
    "    soup = BeautifulSoup(html_doc, 'html.parser')\n",
    "\n",
    "    soup_tag = soup.find_all(\"a\", attrs={\"class\": \"d-lg-none font-bold\"})\n",
    "    \n",
    "    coin_symbol_list = []\n",
    "    for element in soup_tag:\n",
    "        \n",
    "        list_letters = re.findall('([A-Z])', str(element))\n",
    "        coin_symbol = \"\".join(list_letters)\n",
    "        \n",
    "        coin_symbol_list.append(coin_symbol)\n",
    "    \n",
    "    return coin_symbol_list"
   ]
  },
  {
   "cell_type": "code",
   "execution_count": 3,
   "metadata": {},
   "outputs": [],
   "source": [
    "def scrap_coinmarket():\n",
    "    \n",
    "    url = f\"https://coinmarketcap.com/new/\"\n",
    "    \n",
    "    headers = {'User-Agent': 'Mozilla/5.0 (Macintosh; Intel Mac OS X 10.13; rv:63.0) Gecko/20100101 Firefox/63.0'}\n",
    "\n",
    "    r = requests.get(url, headers)\n",
    "    html_doc = r.text\n",
    "    soup = BeautifulSoup(html_doc, 'html.parser')\n",
    "    \n",
    "    soup_tag = soup.find_all(\"img\", attrs={\"class\": \"coin-logo\"})\n",
    "\n",
    "    coin_symbol_list = []\n",
    "    for element in soup_tag:\n",
    "        \n",
    "        list_letters = re.findall('([A-Z])', str(element))\n",
    "        coin_symbol = \"\".join(list_letters)\n",
    "        \n",
    "        coin_symbol_list.append(coin_symbol)\n",
    "    \n",
    "    return coin_symbol_list, soup_tag"
   ]
  },
  {
   "cell_type": "code",
   "execution_count": 4,
   "metadata": {},
   "outputs": [],
   "source": [
    "def scrap_watchlist(soup_tag, symbol):\n",
    "    \n",
    "    list_tag = soup_tag.find_all(\"a\", attrs={\"class\": \"cmc-link\"})\n",
    "    ref = [str(s[\"href\"]) for i, s in enumerate(list_tag) if \"symbol\" in str(s)][0]\n",
    "    \n",
    "    url = f\"https://coinmarketcap.com{ref}\"\n",
    "    \n",
    "    headers = {'User-Agent': 'Mozilla/5.0 (Macintosh; Intel Mac OS X 10.13; rv:63.0) Gecko/20100101 Firefox/63.0'}\n",
    "\n",
    "    r = requests.get(url, headers)\n",
    "    html_doc = r.text\n",
    "    soup = BeautifulSoup(html_doc, 'html.parser')\n",
    "\n",
    "    soup_tag = soup.find_all(\"div\", attrs={\"class\": \"namePill\"})\n",
    "    watchlist_num = int(re.findall(r\"[-]?\\d+[.]?\\d+\", str(soup_tag[2]))[0])\n",
    "    \n",
    "    return watchlist_num\n",
    "    "
   ]
  },
  {
   "cell_type": "code",
   "execution_count": 5,
   "metadata": {},
   "outputs": [],
   "source": [
    "def get_latest_coin_via_coinmarket_api():\n",
    "    \n",
    "    url = 'https://pro-api.coinmarketcap.com/v1/cryptocurrency/listings/latest'\n",
    "\n",
    "    parameters = {\n",
    "      'start':'1',\n",
    "      'limit':'1',\n",
    "      'sort':'date_added',\n",
    "      'convert':'USD'\n",
    "    }\n",
    "    headers = {\n",
    "      'Accepts': 'application/json',\n",
    "      'X-CMC_PRO_API_KEY': '#########',\n",
    "    }\n",
    "\n",
    "    session = Session()\n",
    "    session.headers.update(headers)\n",
    "\n",
    "    try:\n",
    "        response = session.get(url, params=parameters)\n",
    "        data = json.loads(response.text)\n",
    "        blockchain_platform = data[\"data\"][0][\"platform\"][\"name\"]\n",
    "        symbol = data[\"data\"][0][\"symbol\"]\n",
    "        token_address = data[\"data\"][0][\"platform\"][\"token_address\"]\n",
    "        \n",
    "    except (ConnectionError, Timeout, TooManyRedirects) as e:\n",
    "        print(e)\n",
    "  \n",
    "    return blockchain_platform, symbol, token_address \n",
    "    \n",
    "    "
   ]
  },
  {
   "cell_type": "markdown",
   "metadata": {},
   "source": [
    "# main (using api)"
   ]
  },
  {
   "cell_type": "code",
   "execution_count": 24,
   "metadata": {},
   "outputs": [],
   "source": [
    "bool_coin_market = True"
   ]
  },
  {
   "cell_type": "code",
   "execution_count": 25,
   "metadata": {},
   "outputs": [],
   "source": [
    "symbol_coin_market = \"BOB\""
   ]
  },
  {
   "cell_type": "code",
   "execution_count": null,
   "metadata": {
    "scrolled": true
   },
   "outputs": [],
   "source": [
    "while bool_coin_market:\n",
    "    \n",
    "    time.sleep(60)\n",
    "    \n",
    "    symbol_gecko_list = scrap_coin_gecko()\n",
    "    \n",
    "    blockchain_platform, symbol, token_address = get_latest_coin_via_coinmarket_api()\n",
    "    \n",
    "    if symbol_coin_market != symbol:\n",
    "        \n",
    "        symbol_coin_market = symbol\n",
    "        \n",
    "        is_already_in = symbol_coin_market in symbol_gecko_list\n",
    "    \n",
    "        if (not is_already_in) and (blockchain_platform == 'Binance Smart Chain (BEP20)'):\n",
    "            bool_coin_market = False\n",
    "        \n",
    "#     symbol, soup_tag = scrap_coinmarket()\n",
    "    \n",
    "#     if symbol_coin_market != symbol:\n",
    "\n",
    "#         is_already_in = (symbol_coin_market in symbol_gecko_list)\n",
    "#         symbol_coin_market = symbol\n",
    "    \n",
    "#         if (not is_already_in):\n",
    "\n",
    "#             watchlist_num = scrap_watchlist(soup_tag, symbol)\n",
    "#             bool_coin_market = False\n",
    "            \n",
    "#             print(symbol, watchlist_num)\n",
    "\n",
    "print(blockchain_platform)\n",
    "print(symbol)\n",
    "print(token_address)\n",
    "\n",
    "for _ in range(50):\n",
    "    os.system(\"beep -f 555 -l 460\")\n",
    "    time.sleep(0.1)\n"
   ]
  },
  {
   "cell_type": "markdown",
   "metadata": {},
   "source": [
    "# main (using web scraping)"
   ]
  },
  {
   "cell_type": "code",
   "execution_count": 14,
   "metadata": {},
   "outputs": [],
   "source": [
    "bool_coin_market = True\n",
    "bool_coin_gecko = True"
   ]
  },
  {
   "cell_type": "code",
   "execution_count": 15,
   "metadata": {},
   "outputs": [],
   "source": [
    "symbol_coin_market = \"DFP\"\n",
    "#symbol_coin_gecko = \"SQUID\""
   ]
  },
  {
   "cell_type": "code",
   "execution_count": 16,
   "metadata": {},
   "outputs": [
    {
     "name": "stdout",
     "output_type": "stream",
     "text": [
      "COIN MARKET M\n"
     ]
    }
   ],
   "source": [
    "while bool_coin_gecko and bool_coin_market:\n",
    "    \n",
    "    time.sleep(1)\n",
    "    \n",
    "    symbol_marketcap_list, _ = scrap_coinmarket()\n",
    "    symbol_gecko_list = scrap_coin_gecko()\n",
    "    \n",
    "    symbol_marketcap = symbol_marketcap_list[0]\n",
    "    symbol_gecko = symbol_gecko_list[0]\n",
    "\n",
    "    if symbol_marketcap != symbol_coin_market:\n",
    "        is_already_in = symbol_marketcap in symbol_gecko_list\n",
    "        \n",
    "        symbol_coin_market = symbol_marketcap\n",
    "    \n",
    "        if not is_already_in:\n",
    "            bool_coin_market = False\n",
    "            print(\"COIN MARKET\", symbol_coin_market)\n",
    "        \n",
    "#     if symbol_gecko != symbol_coin_gecko:\n",
    "#         is_already_in = symbol_gecko in symbol_marketcap_list\n",
    "#         symbol_coin_gecko = symbol_gecko\n",
    "    \n",
    "#         if not is_already_in:\n",
    "#             bool_coin_gecko = False\n",
    "#             print(\"COIN GECKO\", symbol_coin_gecko)\n",
    "    \n",
    "for _ in range(50):\n",
    "    os.system(\"beep -f 555 -l 460\")\n",
    "    time.sleep(0.1)"
   ]
  },
  {
   "cell_type": "code",
   "execution_count": null,
   "metadata": {},
   "outputs": [],
   "source": []
  },
  {
   "cell_type": "code",
   "execution_count": null,
   "metadata": {},
   "outputs": [],
   "source": []
  },
  {
   "cell_type": "code",
   "execution_count": null,
   "metadata": {},
   "outputs": [],
   "source": []
  },
  {
   "cell_type": "code",
   "execution_count": null,
   "metadata": {},
   "outputs": [],
   "source": []
  },
  {
   "cell_type": "code",
   "execution_count": null,
   "metadata": {},
   "outputs": [],
   "source": []
  },
  {
   "cell_type": "code",
   "execution_count": null,
   "metadata": {},
   "outputs": [],
   "source": []
  }
 ],
 "metadata": {
  "kernelspec": {
   "display_name": "Python [conda env:root] *",
   "language": "python",
   "name": "conda-root-py"
  },
  "language_info": {
   "codemirror_mode": {
    "name": "ipython",
    "version": 3
   },
   "file_extension": ".py",
   "mimetype": "text/x-python",
   "name": "python",
   "nbconvert_exporter": "python",
   "pygments_lexer": "ipython3",
   "version": "3.8.3"
  }
 },
 "nbformat": 4,
 "nbformat_minor": 4
}
