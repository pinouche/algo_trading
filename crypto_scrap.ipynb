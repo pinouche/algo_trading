{
 "cells": [
  {
   "cell_type": "code",
   "execution_count": 1,
   "metadata": {},
   "outputs": [],
   "source": [
    "import datetime\n",
    "import numpy as np \n",
    "import time\n",
    "import re\n",
    "from datetime import datetime\n",
    "import pickle\n",
    "import string\n",
    "import pandas as pd\n",
    "from copy import deepcopy\n",
    "import operator\n",
    "import matplotlib.pyplot as plt\n",
    "import os\n",
    "\n",
    "import ast\n",
    "from bs4 import BeautifulSoup\n",
    "import urllib.request\n",
    "import requests\n",
    "from requests.adapters import HTTPAdapter\n",
    "from requests.packages.urllib3.util.retry import Retry\n",
    "\n",
    "import smtplib\n",
    "from email.mime.text import MIMEText"
   ]
  },
  {
   "cell_type": "code",
   "execution_count": 2,
   "metadata": {},
   "outputs": [],
   "source": [
    "def scrap_coin_gecko(symbol_to_match):\n",
    "    \n",
    "    url = f\"https://www.coingecko.com/en/coins/recently_added\"\n",
    "    \n",
    "    headers = {'User-Agent': 'Mozilla/5.0 (Macintosh; Intel Mac OS X 10.13; rv:63.0) Gecko/20100101 Firefox/63.0'}\n",
    "\n",
    "    r = requests.get(url, headers)\n",
    "    html_doc = r.text\n",
    "    soup = BeautifulSoup(html_doc, 'html.parser')\n",
    "\n",
    "    soup_tag = soup.find_all(\"a\", attrs={\"class\": \"d-lg-none font-bold\"})\n",
    "    \n",
    "    coin_symbol_list = []\n",
    "    for element in soup_tag:\n",
    "        \n",
    "        list_letters = re.findall('([A-Z])', str(element))\n",
    "        coin_symbol = \"\".join(list_letters)\n",
    "        \n",
    "        coin_symbol_list.append(coin_symbol)\n",
    "    \n",
    "    is_symbol_same = coin_symbol_list[0] == symbol_to_match\n",
    "    \n",
    "    if not is_symbol_same:\n",
    "        print(\"coin gecko\", coin_symbol_list[0])\n",
    "\n",
    "    return is_symbol_same, coin_symbol_list[0], coin_symbol_list"
   ]
  },
  {
   "cell_type": "code",
   "execution_count": 3,
   "metadata": {},
   "outputs": [],
   "source": [
    "def scrap_coinmartket(symbol_to_match):\n",
    "    \n",
    "    url = f\"https://coinmarketcap.com/new/\"\n",
    "    \n",
    "    headers = {'User-Agent': 'Mozilla/5.0 (Macintosh; Intel Mac OS X 10.13; rv:63.0) Gecko/20100101 Firefox/63.0'}\n",
    "\n",
    "    r = requests.get(url, headers)\n",
    "    html_doc = r.text\n",
    "    soup = BeautifulSoup(html_doc, 'html.parser')\n",
    "    \n",
    "    soup_tag = soup.find_all(\"img\", attrs={\"class\": \"coin-logo\"})\n",
    "\n",
    "    coin_symbol_list = []\n",
    "    for element in soup_tag:\n",
    "        \n",
    "        list_letters = re.findall('([A-Z])', str(element))\n",
    "        coin_symbol = \"\".join(list_letters)\n",
    "        \n",
    "        coin_symbol_list.append(coin_symbol)\n",
    "\n",
    "    is_symbol_same = coin_symbol_list[0] == symbol_to_match\n",
    "    \n",
    "    if not is_symbol_same:\n",
    "        print(\"coin market\", coin_symbol_list[0])\n",
    "    \n",
    "    return is_symbol_same, coin_symbol_list[0], coin_symbol_list"
   ]
  },
  {
   "cell_type": "code",
   "execution_count": 4,
   "metadata": {},
   "outputs": [],
   "source": []
  },
  {
   "cell_type": "code",
   "execution_count": null,
   "metadata": {},
   "outputs": [],
   "source": []
  },
  {
   "cell_type": "code",
   "execution_count": 16,
   "metadata": {},
   "outputs": [],
   "source": [
    "bool_coin_market = True\n",
    "bool_coin_gecko = True"
   ]
  },
  {
   "cell_type": "code",
   "execution_count": 17,
   "metadata": {},
   "outputs": [],
   "source": [
    "symbol_coin_market = \"DRAC\"\n",
    "symbol_coin_gecko = \"GUCCINU\""
   ]
  },
  {
   "cell_type": "code",
   "execution_count": null,
   "metadata": {
    "scrolled": true
   },
   "outputs": [],
   "source": [
    "while bool_coin_gecko and bool_coin_market:\n",
    "    \n",
    "    time.sleep(1)\n",
    "    \n",
    "    bool_coin_market, symbol_marketcap, symbol_marketcap_list = scrap_coinmartket(symbol_coin_market)\n",
    "    bool_coin_gecko, symbol_gecko, symbol_gecko_list = scrap_coin_gecko(symbol_coin_gecko)\n",
    "\n",
    "    if not bool_coin_market:\n",
    "        is_already_in = symbol_marketcap in symbol_gecko_list\n",
    "    \n",
    "        if is_already_in:\n",
    "            bool_coin_market = True\n",
    "            symbol_coin_market = symbol_marketcap\n",
    "            \n",
    "    if not bool_coin_gecko:\n",
    "        is_already_in = symbol_gecko in symbol_marketcap_list\n",
    "    \n",
    "        if is_already_in:\n",
    "            bool_coin_gecko = True\n",
    "            symbol_coin_gecko = symbol_gecko\n",
    "    \n",
    "for _ in range(50):\n",
    "    os.system(\"beep -f 555 -l 460\")\n",
    "    time.sleep(0.1)\n"
   ]
  },
  {
   "cell_type": "code",
   "execution_count": null,
   "metadata": {},
   "outputs": [],
   "source": []
  },
  {
   "cell_type": "code",
   "execution_count": null,
   "metadata": {},
   "outputs": [],
   "source": []
  },
  {
   "cell_type": "code",
   "execution_count": null,
   "metadata": {},
   "outputs": [],
   "source": []
  },
  {
   "cell_type": "code",
   "execution_count": null,
   "metadata": {},
   "outputs": [],
   "source": []
  },
  {
   "cell_type": "code",
   "execution_count": null,
   "metadata": {},
   "outputs": [],
   "source": []
  }
 ],
 "metadata": {
  "kernelspec": {
   "display_name": "Python [conda env:root] *",
   "language": "python",
   "name": "conda-root-py"
  },
  "language_info": {
   "codemirror_mode": {
    "name": "ipython",
    "version": 3
   },
   "file_extension": ".py",
   "mimetype": "text/x-python",
   "name": "python",
   "nbconvert_exporter": "python",
   "pygments_lexer": "ipython3",
   "version": "3.8.3"
  }
 },
 "nbformat": 4,
 "nbformat_minor": 4
}
